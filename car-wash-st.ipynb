{
 "cells": [
  {
   "cell_type": "code",
   "execution_count": 49,
   "outputs": [],
   "source": [
    "class Car:\n",
    "\n",
    "    def __init__(self, comfort_class: int, clean_mark: int, brand: str) -> None:\n",
    "        self.comfort_class = comfort_class\n",
    "        self.clean_mark = clean_mark\n",
    "        self.brand = brand\n",
    "\n",
    "\n",
    "class CarWashStation:\n",
    "\n",
    "    def __init__(\n",
    "        self,\n",
    "        distance_from_city_center: float,\n",
    "        clean_power: int,\n",
    "        average_rating: float,\n",
    "        count_of_ratings: int,\n",
    "        sum_of_ratings: int = 0\n",
    "    ) -> None:\n",
    "\n",
    "        self.distance_from_city_center = distance_from_city_center\n",
    "        self.clean_power = clean_power\n",
    "        self.average_rating = average_rating\n",
    "        self.count_of_ratings = count_of_ratings\n",
    "        self.sum_of_ratings = average_rating * count_of_ratings\n",
    "\n",
    "\n",
    "    def calculate_washing_price(self, car: str) -> float:\n",
    "        \"\"\"\n",
    "        method, that calculates\n",
    "        cost for a single car wash, cost is calculated as:\n",
    "        car's comfort class * difference between wash station's\n",
    "        clean power and car's clean mark * car wash station rating\n",
    "        / car wash station distance to the center of the city,\n",
    "        returns number rounded to 1 decimal;\n",
    "        \"\"\"\n",
    "\n",
    "        return round(\n",
    "            car.comfort_class * abs(self.clean_power - car.clean_mark)\n",
    "            * (self.average_rating / self.distance_from_city_center),\n",
    "            1\n",
    "        )\n",
    "\n",
    "\n",
    "    def serve_cars(self, cars: list[str]) -> float:\n",
    "        \"\"\"\n",
    "        method, that takes a list of Car's, washes only\n",
    "        cars with clean_mark < clean_power of wash station\n",
    "        and returns income of CarWashStation for serving\n",
    "        this list of Car's, rounded to 1 decimal.\n",
    "        \"\"\"\n",
    "\n",
    "        result = 0\n",
    "\n",
    "        for car in cars:\n",
    "            if self.clean_power > car.clean_mark:\n",
    "                result += self.calculate_washing_price(car)\n",
    "                self.wash_single_car(car)\n",
    "        return round(result, 1)\n",
    "\n",
    "\n",
    "    def wash_single_car(self, car: str) -> None:\n",
    "        \"\"\"\n",
    "        method, that washes a single car,\n",
    "        so it should have clean_mark equals\n",
    "        wash station's clean_power, if\n",
    "        wash_station.clean_power is greater\n",
    "        than car.clean_mark;\n",
    "        \"\"\"\n",
    "        if car.clean_mark < self.clean_power:\n",
    "            car.clean_mark = self.clean_power\n",
    "\n",
    "\n",
    "    def rate_service(self, service_mark: int) -> None:\n",
    "        \"\"\"\n",
    "        method that adds a single rate to the wash station,\n",
    "        and based on this single rate average_rating and\n",
    "        count_of_ratings should be changed\n",
    "        \"\"\"\n",
    "\n",
    "        self.sum_of_ratings += service_mark\n",
    "        self.count_of_ratings += 1\n",
    "        self.average_rating = round(self.sum_of_ratings / self.count_of_ratings, 1)\n",
    "\n"
   ],
   "metadata": {
    "collapsed": false,
    "ExecuteTime": {
     "end_time": "2023-07-02T18:36:18.386180Z",
     "start_time": "2023-07-02T18:36:18.370889Z"
    }
   }
  },
  {
   "cell_type": "code",
   "execution_count": 50,
   "outputs": [],
   "source": [
    "wash_station = CarWashStation(\n",
    "    distance_from_city_center=5,\n",
    "    clean_power=6,\n",
    "    average_rating=3.5,\n",
    "    count_of_ratings=6\n",
    ")\n",
    "\n",
    "bmw = Car(comfort_class=3, clean_mark=3, brand='BMW')\n",
    "audi = Car(comfort_class=4, clean_mark=2, brand='Audi')"
   ],
   "metadata": {
    "collapsed": false,
    "ExecuteTime": {
     "end_time": "2023-07-02T18:36:18.539271Z",
     "start_time": "2023-07-02T18:36:18.535183Z"
    }
   }
  },
  {
   "cell_type": "code",
   "execution_count": 51,
   "outputs": [
    {
     "data": {
      "text/plain": "3.5"
     },
     "execution_count": 51,
     "metadata": {},
     "output_type": "execute_result"
    }
   ],
   "source": [
    "wash_station.average_rating"
   ],
   "metadata": {
    "collapsed": false,
    "ExecuteTime": {
     "end_time": "2023-07-02T18:36:18.729070Z",
     "start_time": "2023-07-02T18:36:18.723074Z"
    }
   }
  },
  {
   "cell_type": "code",
   "execution_count": 52,
   "outputs": [
    {
     "data": {
      "text/plain": "3.7"
     },
     "execution_count": 52,
     "metadata": {},
     "output_type": "execute_result"
    }
   ],
   "source": [
    "wash_station.rate_service(5)\n",
    "wash_station.average_rating"
   ],
   "metadata": {
    "collapsed": false,
    "ExecuteTime": {
     "end_time": "2023-07-02T18:36:18.903971Z",
     "start_time": "2023-07-02T18:36:18.899247Z"
    }
   }
  },
  {
   "cell_type": "code",
   "execution_count": null,
   "outputs": [],
   "source": [],
   "metadata": {
    "collapsed": false
   }
  }
 ],
 "metadata": {
  "kernelspec": {
   "display_name": "Python 3",
   "language": "python",
   "name": "python3"
  },
  "language_info": {
   "codemirror_mode": {
    "name": "ipython",
    "version": 2
   },
   "file_extension": ".py",
   "mimetype": "text/x-python",
   "name": "python",
   "nbconvert_exporter": "python",
   "pygments_lexer": "ipython2",
   "version": "2.7.6"
  }
 },
 "nbformat": 4,
 "nbformat_minor": 0
}
